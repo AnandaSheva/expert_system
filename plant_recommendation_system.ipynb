{
  "nbformat": 4,
  "nbformat_minor": 0,
  "metadata": {
    "colab": {
      "provenance": [],
      "authorship_tag": "ABX9TyN2D7+pd0+qqJzs0kKnvONa",
      "include_colab_link": true
    },
    "kernelspec": {
      "name": "python3",
      "display_name": "Python 3"
    },
    "language_info": {
      "name": "python"
    }
  },
  "cells": [
    {
      "cell_type": "markdown",
      "metadata": {
        "id": "view-in-github",
        "colab_type": "text"
      },
      "source": [
        "<a href=\"https://colab.research.google.com/github/AnandaSheva/expert_system/blob/main/plant_recommendation_system.ipynb\" target=\"_parent\"><img src=\"https://colab.research.google.com/assets/colab-badge.svg\" alt=\"Open In Colab\"/></a>"
      ]
    },
    {
      "cell_type": "code",
      "source": [
        "!pip install pdfplumber"
      ],
      "metadata": {
        "id": "mctl8WW0uQP1",
        "outputId": "47fd8af9-9061-4517-e2b2-333a7c571ecf",
        "colab": {
          "base_uri": "https://localhost:8080/"
        }
      },
      "execution_count": 1,
      "outputs": [
        {
          "output_type": "stream",
          "name": "stdout",
          "text": [
            "Collecting pdfplumber\n",
            "  Downloading pdfplumber-0.11.4-py3-none-any.whl.metadata (41 kB)\n",
            "\u001b[?25l     \u001b[90m━━━━━━━━━━━━━━━━━━━━━━━━━━━━━━━━━━━━━━━━\u001b[0m \u001b[32m0.0/42.0 kB\u001b[0m \u001b[31m?\u001b[0m eta \u001b[36m-:--:--\u001b[0m\r\u001b[2K     \u001b[91m━━━━━━━━━━━━━━━━━━━━━━━━━━━━━━━━━━━━━━━\u001b[0m\u001b[90m╺\u001b[0m \u001b[32m41.0/42.0 kB\u001b[0m \u001b[31m8.8 MB/s\u001b[0m eta \u001b[36m0:00:01\u001b[0m\r\u001b[2K     \u001b[90m━━━━━━━━━━━━━━━━━━━━━━━━━━━━━━━━━━━━━━━━\u001b[0m \u001b[32m42.0/42.0 kB\u001b[0m \u001b[31m706.9 kB/s\u001b[0m eta \u001b[36m0:00:00\u001b[0m\n",
            "\u001b[?25hCollecting pdfminer.six==20231228 (from pdfplumber)\n",
            "  Downloading pdfminer.six-20231228-py3-none-any.whl.metadata (4.2 kB)\n",
            "Requirement already satisfied: Pillow>=9.1 in /usr/local/lib/python3.10/dist-packages (from pdfplumber) (10.4.0)\n",
            "Collecting pypdfium2>=4.18.0 (from pdfplumber)\n",
            "  Downloading pypdfium2-4.30.0-py3-none-manylinux_2_17_x86_64.manylinux2014_x86_64.whl.metadata (48 kB)\n",
            "\u001b[2K     \u001b[90m━━━━━━━━━━━━━━━━━━━━━━━━━━━━━━━━━━━━━━━━\u001b[0m \u001b[32m48.5/48.5 kB\u001b[0m \u001b[31m1.7 MB/s\u001b[0m eta \u001b[36m0:00:00\u001b[0m\n",
            "\u001b[?25hRequirement already satisfied: charset-normalizer>=2.0.0 in /usr/local/lib/python3.10/dist-packages (from pdfminer.six==20231228->pdfplumber) (3.4.0)\n",
            "Requirement already satisfied: cryptography>=36.0.0 in /usr/local/lib/python3.10/dist-packages (from pdfminer.six==20231228->pdfplumber) (43.0.3)\n",
            "Requirement already satisfied: cffi>=1.12 in /usr/local/lib/python3.10/dist-packages (from cryptography>=36.0.0->pdfminer.six==20231228->pdfplumber) (1.17.1)\n",
            "Requirement already satisfied: pycparser in /usr/local/lib/python3.10/dist-packages (from cffi>=1.12->cryptography>=36.0.0->pdfminer.six==20231228->pdfplumber) (2.22)\n",
            "Downloading pdfplumber-0.11.4-py3-none-any.whl (59 kB)\n",
            "\u001b[2K   \u001b[90m━━━━━━━━━━━━━━━━━━━━━━━━━━━━━━━━━━━━━━━━\u001b[0m \u001b[32m59.2/59.2 kB\u001b[0m \u001b[31m2.0 MB/s\u001b[0m eta \u001b[36m0:00:00\u001b[0m\n",
            "\u001b[?25hDownloading pdfminer.six-20231228-py3-none-any.whl (5.6 MB)\n",
            "\u001b[2K   \u001b[90m━━━━━━━━━━━━━━━━━━━━━━━━━━━━━━━━━━━━━━━━\u001b[0m \u001b[32m5.6/5.6 MB\u001b[0m \u001b[31m27.2 MB/s\u001b[0m eta \u001b[36m0:00:00\u001b[0m\n",
            "\u001b[?25hDownloading pypdfium2-4.30.0-py3-none-manylinux_2_17_x86_64.manylinux2014_x86_64.whl (2.8 MB)\n",
            "\u001b[2K   \u001b[90m━━━━━━━━━━━━━━━━━━━━━━━━━━━━━━━━━━━━━━━━\u001b[0m \u001b[32m2.8/2.8 MB\u001b[0m \u001b[31m32.8 MB/s\u001b[0m eta \u001b[36m0:00:00\u001b[0m\n",
            "\u001b[?25hInstalling collected packages: pypdfium2, pdfminer.six, pdfplumber\n",
            "Successfully installed pdfminer.six-20231228 pdfplumber-0.11.4 pypdfium2-4.30.0\n"
          ]
        }
      ]
    },
    {
      "cell_type": "code",
      "source": [
        "import re\n",
        "import json\n",
        "import pdfplumber\n",
        "\n",
        "def baca_pdf(path_pdf):\n",
        "    pdf = pdfplumber.open(path_pdf)\n",
        "    page_tanaman = pdf.pages[0].extract_text()\n",
        "    page_tanaman = page_tanaman.replace(\"\\n\", \" \")\n",
        "\n",
        "    pola = r\"Nama Tanaman: ([\\w\\s/]+), Ketinggian Tempat \\(mdpl\\): (\\d+) - (\\d+), Curah Hujan \\(mm/bulan\\): (\\d+) - (\\d+), Bulan Tanam: ([\\w\\s,]+);\"\n",
        "    tanaman = re.findall(pola, page_tanaman)\n",
        "\n",
        "    isi_tanaman = []\n",
        "    for tanaman_data in tanaman:\n",
        "        tanaman_info = {\n",
        "            \"nama_tanaman\": tanaman_data[0].strip(),\n",
        "            \"ketinggian_tempat\": (int(tanaman_data[1]), int(tanaman_data[2])),\n",
        "            \"curah_hujan\": (int(tanaman_data[3]), int(tanaman_data[4])),\n",
        "            \"bulan_tanam\": [bulan.strip() for bulan in tanaman_data[5].split(\",\")]\n",
        "        }\n",
        "        isi_tanaman.append(tanaman_info)\n",
        "\n",
        "    return isi_tanaman\n",
        "\n",
        "def cek_kesesuaian_tanaman(tanaman, ketinggian, curah_hujan, bulan):\n",
        "    if not (tanaman[\"ketinggian_tempat\"][0] <= ketinggian <= tanaman[\"ketinggian_tempat\"][1]):\n",
        "        return False\n",
        "\n",
        "    if not (tanaman[\"curah_hujan\"][0] <= curah_hujan <= tanaman[\"curah_hujan\"][1]):\n",
        "        return False\n",
        "\n",
        "    if bulan.capitalize() not in tanaman[\"bulan_tanam\"]:\n",
        "        return False\n",
        "\n",
        "    return True\n",
        "\n",
        "def dapatkan_rekomendasi(data_tanaman, ketinggian, curah_hujan, bulan):\n",
        "    rekomendasi = []\n",
        "    tidak_sesuai = []\n",
        "\n",
        "    for tanaman in data_tanaman:\n",
        "        sesuai = cek_kesesuaian_tanaman(tanaman, ketinggian, curah_hujan, bulan)\n",
        "        if sesuai:\n",
        "            rekomendasi.append({\n",
        "                \"nama_tanaman\": tanaman[\"nama_tanaman\"]\n",
        "            })\n",
        "        else:\n",
        "            tidak_sesuai.append({\n",
        "                \"nama_tanaman\": tanaman[\"nama_tanaman\"]\n",
        "            })\n",
        "\n",
        "    return rekomendasi, tidak_sesuai\n",
        "\n",
        "def export_json(data, path):\n",
        "    with open(path, 'w', encoding='utf-8') as f:\n",
        "        json.dump(data, f, indent=4, ensure_ascii=False)\n",
        "\n",
        "data_tanaman = baca_pdf('/content/plant_rules.pdf')\n",
        "export_json(data_tanaman, '/content/plant_data.json')"
      ],
      "metadata": {
        "collapsed": true,
        "id": "9yznpjInsRwO"
      },
      "execution_count": 4,
      "outputs": []
    },
    {
      "cell_type": "code",
      "source": [
        "def main():\n",
        "    try:\n",
        "        data_tanaman = baca_pdf('/content/plant_rules.pdf')\n",
        "\n",
        "        print(\"\\n=== Sistem Rekomendasi Tanaman ===\")\n",
        "        ketinggian = int(input(\"Masukkan ketinggian tempat (mdpl): \"))\n",
        "        curah_hujan = int(input(\"Masukkan curah hujan (mm/bulan): \"))\n",
        "        bulan = input(\"Masukkan bulan tanam: \")\n",
        "\n",
        "        rekomendasi, tidak_sesuai = dapatkan_rekomendasi(\n",
        "            data_tanaman, ketinggian, curah_hujan, bulan\n",
        "        )\n",
        "        print(\"\\nRekomendasikan tanaman:\")\n",
        "        if rekomendasi:\n",
        "            for idx, tanaman in enumerate(rekomendasi, 1):\n",
        "                print(f\"{idx}. {tanaman['nama_tanaman']}\")\n",
        "        else:\n",
        "            print(\"Tidak ada tanaman yang sesuai\")\n",
        "\n",
        "    except FileNotFoundError:\n",
        "        print(\"Error: File PDF tidak ditemukan\")\n",
        "    except ValueError:\n",
        "        print(\"Error: Input tidak valid. Pastikan input berupa angka untuk ketinggian dan curah hujan\")\n",
        "    except Exception as e:\n",
        "        print(f\"Error: Terjadi kesalahan - {str(e)}\")\n",
        "\n",
        "if __name__ == \"__main__\":\n",
        "    main()"
      ],
      "metadata": {
        "id": "TfhksSNoxRC7",
        "outputId": "957393a4-937f-4998-a7d1-f2f5569f1f3d",
        "colab": {
          "base_uri": "https://localhost:8080/"
        }
      },
      "execution_count": 6,
      "outputs": [
        {
          "output_type": "stream",
          "name": "stdout",
          "text": [
            "\n",
            "=== Sistem Rekomendasi Tanaman ===\n",
            "Masukkan ketinggian tempat (mdpl): 150\n",
            "Masukkan curah hujan (mm/bulan): 150\n",
            "Masukkan bulan tanam: April\n",
            "\n",
            "Rekomendasikan tanaman:\n",
            "1. Kedelai\n",
            "2. Padi/Beras\n"
          ]
        }
      ]
    }
  ]
}